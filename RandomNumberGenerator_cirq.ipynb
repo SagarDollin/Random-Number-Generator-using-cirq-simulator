{
 "cells": [
  {
   "cell_type": "code",
   "execution_count": 1,
   "metadata": {},
   "outputs": [],
   "source": [
    "import cirq"
   ]
  },
  {
   "cell_type": "code",
   "execution_count": 2,
   "metadata": {},
   "outputs": [
    {
     "name": "stdout",
     "output_type": "stream",
     "text": [
      "Random bit Generator: ───H───M───\n"
     ]
    }
   ],
   "source": [
    "def createCircuit():\n",
    "    q1 = cirq.NamedQubit(\"Random bit Generator\")\n",
    "    circuit = cirq.Circuit(cirq.H(q1), cirq.measure(q1,key='Random bit Generator'))\n",
    "    return circuit\n",
    "print(createCircuit())"
   ]
  },
  {
   "cell_type": "code",
   "execution_count": 3,
   "metadata": {
    "scrolled": true
   },
   "outputs": [],
   "source": [
    "def executeOnSimulator(n = 10, circuit = createCircuit()):\n",
    "    GenerateRandomBits = cirq.Simulator()\n",
    "    RandomBits = GenerateRandomBits.run(circuit, repetitions=n)\n",
    "    return RandomBits\n"
   ]
  },
  {
   "cell_type": "code",
   "execution_count": 4,
   "metadata": {},
   "outputs": [],
   "source": [
    "def binToDec(results):\n",
    "    s = str(results)\n",
    "    decimalValue = int(s.split('=')[1],2)\n",
    "    return decimalValue"
   ]
  },
  {
   "cell_type": "code",
   "execution_count": 5,
   "metadata": {},
   "outputs": [],
   "source": [
    "def generateRandomNumber(n = 10):\n",
    "    circuit = createCircuit()\n",
    "    results = executeOnSimulator(n,circuit)\n",
    "    RandomNumber = binToDec(results)\n",
    "    return RandomNumber\n",
    "    \n",
    "    "
   ]
  },
  {
   "cell_type": "code",
   "execution_count": 6,
   "metadata": {},
   "outputs": [
    {
     "name": "stdout",
     "output_type": "stream",
     "text": [
      "Enter the value of n 12\n",
      "We generate a random number between 0 to (2^n)-1 i.e, 0  to  4095\n",
      "RANDOM NUMBER IS:  3740\n"
     ]
    }
   ],
   "source": [
    "n = int(input(\"Enter the value of n \"))\n",
    "print(\"We generate a random number between 0 to (2^n)-1 i.e,\",0,\" to \", (2**n)-1)\n",
    "print(\"RANDOM NUMBER IS: \",generateRandomNumber(n))"
   ]
  },
  {
   "cell_type": "code",
   "execution_count": null,
   "metadata": {},
   "outputs": [],
   "source": []
  },
  {
   "cell_type": "code",
   "execution_count": null,
   "metadata": {},
   "outputs": [],
   "source": []
  }
 ],
 "metadata": {
  "kernelspec": {
   "display_name": "Python 3",
   "language": "python",
   "name": "python3"
  },
  "language_info": {
   "codemirror_mode": {
    "name": "ipython",
    "version": 3
   },
   "file_extension": ".py",
   "mimetype": "text/x-python",
   "name": "python",
   "nbconvert_exporter": "python",
   "pygments_lexer": "ipython3",
   "version": "3.7.0"
  }
 },
 "nbformat": 4,
 "nbformat_minor": 4
}
